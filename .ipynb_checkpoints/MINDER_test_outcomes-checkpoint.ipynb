{
 "cells": [
  {
   "cell_type": "code",
   "execution_count": 1,
   "id": "e64d92a8",
   "metadata": {},
   "outputs": [],
   "source": [
    "import pandas as pd\n",
    "import numpy as np"
   ]
  },
  {
   "cell_type": "code",
   "execution_count": null,
   "id": "95917622",
   "metadata": {},
   "outputs": [],
   "source": [
    "# Output: Outcomes.CSV."
   ]
  },
  {
   "cell_type": "code",
   "execution_count": 62,
   "id": "3ce231ba",
   "metadata": {},
   "outputs": [],
   "source": [
    "def data_density(df_mdaq,df_biopac):\n",
    "    return df_mdaq.shape, df_biopac.shape"
   ]
  },
  {
   "cell_type": "code",
   "execution_count": 63,
   "id": "293b56de",
   "metadata": {},
   "outputs": [],
   "source": [
    "# TODO: Adapt it for different sample rate intervals.\n",
    "def calculate_missing_percentage(df):\n",
    "    # Calculate time span and expected rows (assuming 1 ms intervals)\n",
    "    time_span = df[\"timestamp_ms\"].max() - df[\"timestamp_ms\"].min()\n",
    "    expected_rows = time_span + 1\n",
    "\n",
    "    # Actual rows present\n",
    "    actual_rows = len(df)\n",
    "\n",
    "    # Missing rows calculation\n",
    "    missing_rows = expected_rows - actual_rows\n",
    "    missing_percentage = (missing_rows / expected_rows) * 100\n",
    "\n",
    "    return missing_percentage\n"
   ]
  },
  {
   "cell_type": "code",
   "execution_count": 64,
   "id": "04575b1b",
   "metadata": {},
   "outputs": [],
   "source": [
    "def main_outcomes_csv(df_mdaq,df_biopac):\n",
    "    missing_percentage_mdaq = calculate_missing_percentage(df_mdaq)\n",
    "    missing_percentage_biopac = calculate_missing_percentage(df_biopac)\n",
    "    density_mdaq , density_biopac = data_density(df_mdaq,df_biopac)\n",
    "    outcomes_json = {\n",
    "        \"missing_percentage_mdaq\":missing_percentage_mdaq, \n",
    "        \"missing_percentage_biopac\":missing_percentage_biopac,\n",
    "        \"density_mdaq\":density_mdaq[0],\n",
    "        \"density_biopac\":density_biopac[0]\n",
    "    }\n",
    "    outcomes_df = pd.DataFrame([outcomes_json])\n",
    "    return outcomes_df\n"
   ]
  },
  {
   "cell_type": "code",
   "execution_count": null,
   "id": "9e1e9239",
   "metadata": {},
   "outputs": [],
   "source": []
  },
  {
   "cell_type": "code",
   "execution_count": 65,
   "id": "3813931f",
   "metadata": {},
   "outputs": [
    {
     "name": "stderr",
     "output_type": "stream",
     "text": [
      "/Users/shehjarsadhu/opt/anaconda3/envs/carehub/lib/python3.7/site-packages/IPython/core/interactiveshell.py:3457: DtypeWarning: Columns (15) have mixed types.Specify dtype option on import or set low_memory=False.\n",
      "  exec(code_obj, self.user_global_ns, self.user_ns)\n",
      "/Users/shehjarsadhu/opt/anaconda3/envs/carehub/lib/python3.7/site-packages/IPython/core/interactiveshell.py:3457: DtypeWarning: Columns (5) have mixed types.Specify dtype option on import or set low_memory=False.\n",
      "  exec(code_obj, self.user_global_ns, self.user_ns)\n"
     ]
    }
   ],
   "source": [
    "df_mdaq = pd.read_csv(\"/Users/shehjarsadhu/Desktop/UniversityOfRhodeIsland/Graduate/WBL/Project_MINDER/Sample-dataset/Merged_Files/mdaq_labels.csv\")\n",
    "df_biopac = pd.read_csv(\"/Users/shehjarsadhu/Desktop/UniversityOfRhodeIsland/Graduate/WBL/Project_MINDER/Sample-dataset/Merged_Files/biopac_labels.csv\")\n",
    "outcomes_df = main_outcomes_csv(df_mdaq,df_biopac)\n",
    "\n"
   ]
  },
  {
   "cell_type": "code",
   "execution_count": 67,
   "id": "98d8d2e5",
   "metadata": {},
   "outputs": [
    {
     "data": {
      "text/html": [
       "<div>\n",
       "<style scoped>\n",
       "    .dataframe tbody tr th:only-of-type {\n",
       "        vertical-align: middle;\n",
       "    }\n",
       "\n",
       "    .dataframe tbody tr th {\n",
       "        vertical-align: top;\n",
       "    }\n",
       "\n",
       "    .dataframe thead th {\n",
       "        text-align: right;\n",
       "    }\n",
       "</style>\n",
       "<table border=\"1\" class=\"dataframe\">\n",
       "  <thead>\n",
       "    <tr style=\"text-align: right;\">\n",
       "      <th></th>\n",
       "      <th>missing_percentage_mdaq</th>\n",
       "      <th>missing_percentage_biopac</th>\n",
       "      <th>density_mdaq</th>\n",
       "      <th>density_biopac</th>\n",
       "    </tr>\n",
       "  </thead>\n",
       "  <tbody>\n",
       "    <tr>\n",
       "      <th>0</th>\n",
       "      <td>87.212254</td>\n",
       "      <td>65.613932</td>\n",
       "      <td>461349</td>\n",
       "      <td>1261608</td>\n",
       "    </tr>\n",
       "  </tbody>\n",
       "</table>\n",
       "</div>"
      ],
      "text/plain": [
       "   missing_percentage_mdaq  missing_percentage_biopac  density_mdaq  \\\n",
       "0                87.212254                  65.613932        461349   \n",
       "\n",
       "   density_biopac  \n",
       "0         1261608  "
      ]
     },
     "execution_count": 67,
     "metadata": {},
     "output_type": "execute_result"
    }
   ],
   "source": [
    "outcomes_df"
   ]
  },
  {
   "cell_type": "code",
   "execution_count": 66,
   "id": "9d35cc11",
   "metadata": {},
   "outputs": [
    {
     "data": {
      "text/html": [
       "<div>\n",
       "<style scoped>\n",
       "    .dataframe tbody tr th:only-of-type {\n",
       "        vertical-align: middle;\n",
       "    }\n",
       "\n",
       "    .dataframe tbody tr th {\n",
       "        vertical-align: top;\n",
       "    }\n",
       "\n",
       "    .dataframe thead th {\n",
       "        text-align: right;\n",
       "    }\n",
       "</style>\n",
       "<table border=\"1\" class=\"dataframe\">\n",
       "  <thead>\n",
       "    <tr style=\"text-align: right;\">\n",
       "      <th></th>\n",
       "      <th>missing_percentage_mdaq</th>\n",
       "      <th>missing_percentage_biopac</th>\n",
       "      <th>density_mdaq</th>\n",
       "      <th>density_biopac</th>\n",
       "    </tr>\n",
       "  </thead>\n",
       "  <tbody>\n",
       "    <tr>\n",
       "      <th>0</th>\n",
       "      <td>87.212254</td>\n",
       "      <td>65.613932</td>\n",
       "      <td>461349</td>\n",
       "      <td>1261608</td>\n",
       "    </tr>\n",
       "  </tbody>\n",
       "</table>\n",
       "</div>"
      ],
      "text/plain": [
       "   missing_percentage_mdaq  missing_percentage_biopac  density_mdaq  \\\n",
       "0                87.212254                  65.613932        461349   \n",
       "\n",
       "   density_biopac  \n",
       "0         1261608  "
      ]
     },
     "execution_count": 66,
     "metadata": {},
     "output_type": "execute_result"
    }
   ],
   "source": []
  },
  {
   "cell_type": "code",
   "execution_count": null,
   "id": "6a2e75f8",
   "metadata": {},
   "outputs": [],
   "source": [
    "\n"
   ]
  },
  {
   "cell_type": "code",
   "execution_count": null,
   "id": "466ab2f1",
   "metadata": {},
   "outputs": [],
   "source": []
  },
  {
   "cell_type": "code",
   "execution_count": null,
   "id": "885ec206",
   "metadata": {},
   "outputs": [],
   "source": []
  }
 ],
 "metadata": {
  "kernelspec": {
   "display_name": "Python 3 (ipykernel)",
   "language": "python",
   "name": "python3"
  },
  "language_info": {
   "codemirror_mode": {
    "name": "ipython",
    "version": 3
   },
   "file_extension": ".py",
   "mimetype": "text/x-python",
   "name": "python",
   "nbconvert_exporter": "python",
   "pygments_lexer": "ipython3",
   "version": "3.7.13"
  },
  "varInspector": {
   "cols": {
    "lenName": 16,
    "lenType": 16,
    "lenVar": 40
   },
   "kernels_config": {
    "python": {
     "delete_cmd_postfix": "",
     "delete_cmd_prefix": "del ",
     "library": "var_list.py",
     "varRefreshCmd": "print(var_dic_list())"
    },
    "r": {
     "delete_cmd_postfix": ") ",
     "delete_cmd_prefix": "rm(",
     "library": "var_list.r",
     "varRefreshCmd": "cat(var_dic_list()) "
    }
   },
   "types_to_exclude": [
    "module",
    "function",
    "builtin_function_or_method",
    "instance",
    "_Feature"
   ],
   "window_display": false
  }
 },
 "nbformat": 4,
 "nbformat_minor": 5
}
